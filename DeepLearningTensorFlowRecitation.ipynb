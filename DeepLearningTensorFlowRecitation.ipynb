{
 "cells": [
  {
   "cell_type": "markdown",
   "metadata": {},
   "source": [
    "# Deep Learning with TensorFlow\n",
    "## Recitation Notebook\n",
    "\n",
    "### Authors: Trevin Gandhi, Jordan Hurwitz"
   ]
  },
  {
   "cell_type": "markdown",
   "metadata": {},
   "source": [
    "This recitation will consist of two parts:  \n",
    "1) Building a feedforward Deep Neural Network in TensorFlow and discussing some best practices  \n",
    "2) Building an RNN (specifically, an LSTM) in TensorFlow and using it for text generation  "
   ]
  },
  {
   "cell_type": "markdown",
   "metadata": {},
   "source": [
    "### Section 1: Building a Deep Feedforward Neural Network\n",
    "(Based on the TensorFlow tutorials)"
   ]
  },
  {
   "cell_type": "markdown",
   "metadata": {},
   "source": [
    "A quick first thing to note --- for most applications of deep learning \n",
    "(for example, image recognition), instead of training a deep neural\n",
    "network from scratch (which can take on the order of days or weeks), it\n",
    "is common to download weights for pre-trained networks and \"fine-tune\"\n",
    "the network to fit your application. In this notebook, however, we train\n",
    "the network from scratch."
   ]
  },
  {
   "cell_type": "code",
   "execution_count": 1,
   "metadata": {
    "collapsed": true
   },
   "outputs": [],
   "source": [
    "# First, we do the basic setup.\n",
    "import tensorflow as tf\n",
    "sess = tf.InteractiveSession()"
   ]
  },
  {
   "cell_type": "code",
   "execution_count": 2,
   "metadata": {
    "collapsed": false
   },
   "outputs": [
    {
     "name": "stdout",
     "output_type": "stream",
     "text": [
      "Extracting MNIST_data/train-images-idx3-ubyte.gz\n",
      "Extracting MNIST_data/train-labels-idx1-ubyte.gz\n",
      "Extracting MNIST_data/t10k-images-idx3-ubyte.gz\n",
      "Extracting MNIST_data/t10k-labels-idx1-ubyte.gz\n"
     ]
    }
   ],
   "source": [
    "# We will be training this deep neural network on MNIST,\n",
    "# so let's first load the dataset.\n",
    "from tensorflow.examples.tutorials.mnist import input_data\n",
    "mnist = input_data.read_data_sets('MNIST_data', one_hot=True)"
   ]
  },
  {
   "cell_type": "code",
   "execution_count": 3,
   "metadata": {
    "collapsed": false
   },
   "outputs": [],
   "source": [
    "# Now let's initialize some placeholders\n",
    "\n",
    "# Here, x is a placeholder for our input data. Since MNIST\n",
    "# uses 28x28 pixel images, we \"unroll\" them into a 784-pixel\n",
    "# long vector. The `None` indicates that we can input an\n",
    "# arbitrary amount of datapoints. Thus we are saying x is a\n",
    "# matrix with 784 columns and an arbitrary (to be decided \n",
    "# when we supply the data) number of rows.\n",
    "x  = tf.placeholder(tf.float32, [None, 784])\n",
    "\n",
    "# We define y_ to be the placeholder for our *true* y's. \n",
    "# We are giving y_ 10 rows because each row will be a\n",
    "# one-hot vector with the correct classification of the\n",
    "# image.\n",
    "y_ = tf.placeholder(tf.float32, shape=[None, 10])"
   ]
  },
  {
   "cell_type": "code",
   "execution_count": 4,
   "metadata": {
    "collapsed": true
   },
   "outputs": [],
   "source": [
    "# Here we make a handy function for initializing biases. \n",
    "# Note that we are returning a \"Variable\" - this means\n",
    "# something that is subject to change during training.\n",
    "# TensorFlow is actually using gradient descent to optimize\n",
    "# the value of all \"Variables\" in our network. \n",
    "def bias_variable(shape):\n",
    "    initial = tf.constant(0.1, shape=shape)\n",
    "    return tf.Variable(initial)"
   ]
  },
  {
   "cell_type": "code",
   "execution_count": 5,
   "metadata": {
    "collapsed": false
   },
   "outputs": [],
   "source": [
    "# Let's define the first set of weights and biases (corresponding to our first layer)\n",
    "# We use Xavier initialization for the weights as good practice for when we're training\n",
    "# deeper networks. Here, get_variable is similar to when we return a Variable and assign\n",
    "# it, except it also checks to see if the variable already exists.\n",
    "\n",
    "# This is: [number of input neurons, number of neurons in the first hidden layer,\n",
    "# number of neurons in the second hidden layer, number of classes]\n",
    "num_neurons = [784, 768, 1280, 10]\n",
    "\n",
    "w1 = tf.get_variable(\"w1\", shape=[num_neurons[0], num_neurons[1]], \n",
    "                     initializer=tf.contrib.layers.xavier_initializer())\n",
    "b1 = bias_variable([num_neurons[1]])\n",
    "\n",
    "# Now let's define the computation that takes this layer's input and runs it through\n",
    "# the neurons. Note that we use the ReLU activation function to avoid problems\n",
    "# with our gradients. This line is the equivalent of saying the output of the\n",
    "# first hidden layer is max(w1*x + b1, 0).\n",
    "h1 = tf.nn.relu(tf.matmul(x, w1) + b1)\n",
    "\n",
    "# We also apply dropout after this layer and the next. Dropout is a form of regularization\n",
    "# in neural networks where we \"turn off\" randomly selected neurons during training.\n",
    "keep_prob = tf.placeholder(tf.float32)\n",
    "h1_drop = tf.nn.dropout(h1, keep_prob)"
   ]
  },
  {
   "cell_type": "code",
   "execution_count": 6,
   "metadata": {
    "collapsed": true
   },
   "outputs": [],
   "source": [
    "# Define the second layer, similarly to the first.\n",
    "w2 = tf.get_variable(\"w2\", shape=[num_neurons[1], num_neurons[2]], \n",
    "                     initializer=tf.contrib.layers.xavier_initializer())\n",
    "b2 = bias_variable([num_neurons[2]])\n",
    "h2 = tf.nn.relu(tf.matmul(h1_drop, w2) + b2)\n",
    "h2_drop = tf.nn.dropout(h2, keep_prob)\n",
    "\n",
    "# And define the third layer to output the log probabilities \n",
    "w3 = tf.get_variable(\"w3\", shape=[num_neurons[2], num_neurons[3]], \n",
    "                     initializer=tf.contrib.layers.xavier_initializer())\n",
    "b3 = bias_variable([num_neurons[3]])\n",
    "y  = tf.matmul(h2_drop, w3) + b3"
   ]
  },
  {
   "cell_type": "code",
   "execution_count": 7,
   "metadata": {
    "collapsed": true
   },
   "outputs": [],
   "source": [
    "# We define our loss function to be cross entropy over softmax probabilities.\n",
    "# Here our true labels are defined by y_, and our log probabilities\n",
    "# (TensorFlow calls them `logits`) are defined by y.\n",
    "cross_entropy = tf.reduce_mean(\n",
    "    tf.nn.softmax_cross_entropy_with_logits(labels=y_, logits=y))"
   ]
  },
  {
   "cell_type": "code",
   "execution_count": 11,
   "metadata": {
    "collapsed": false
   },
   "outputs": [
    {
     "name": "stdout",
     "output_type": "stream",
     "text": [
      "step 0, training accuracy 0.12, loss 2.36191\n",
      "step 500, training accuracy 0.88, loss 0.394852\n",
      "step 1000, training accuracy 0.9, loss 0.430673\n",
      "step 1500, training accuracy 0.94, loss 0.184752\n",
      "step 2000, training accuracy 0.9, loss 0.355574\n",
      "step 2500, training accuracy 0.96, loss 0.0932907\n",
      "step 3000, training accuracy 0.98, loss 0.0827014\n",
      "step 3500, training accuracy 1, loss 0.0329447\n",
      "step 4000, training accuracy 1, loss 0.0322969\n",
      "step 4500, training accuracy 0.98, loss 0.0566665\n",
      "step 5000, training accuracy 1, loss 0.0324511\n",
      "step 5500, training accuracy 1, loss 0.00763843\n",
      "step 6000, training accuracy 1, loss 0.0359979\n",
      "step 6500, training accuracy 0.98, loss 0.083751\n",
      "step 7000, training accuracy 0.98, loss 0.04201\n",
      "step 7500, training accuracy 0.96, loss 0.0732711\n",
      "step 8000, training accuracy 1, loss 0.0103019\n",
      "step 8500, training accuracy 1, loss 0.014179\n",
      "step 9000, training accuracy 1, loss 0.00476737\n",
      "step 9500, training accuracy 1, loss 0.0165754\n",
      "step 10000, training accuracy 0.98, loss 0.0285278\n",
      "step 10500, training accuracy 1, loss 0.0151017\n",
      "step 11000, training accuracy 0.98, loss 0.0885564\n",
      "step 11500, training accuracy 1, loss 0.0229608\n",
      "step 12000, training accuracy 1, loss 0.0100252\n",
      "step 12500, training accuracy 0.98, loss 0.0394145\n",
      "step 13000, training accuracy 1, loss 0.0106264\n",
      "step 13500, training accuracy 1, loss 0.00661462\n",
      "step 14000, training accuracy 1, loss 0.0148253\n",
      "step 14500, training accuracy 0.98, loss 0.0332405\n",
      "step 15000, training accuracy 1, loss 0.00434365\n",
      "step 15500, training accuracy 1, loss 0.00441038\n",
      "step 16000, training accuracy 0.98, loss 0.0483443\n",
      "step 16500, training accuracy 0.98, loss 0.0462625\n",
      "step 17000, training accuracy 1, loss 0.0162148\n",
      "step 17500, training accuracy 0.96, loss 0.17509\n",
      "step 18000, training accuracy 1, loss 0.0066528\n",
      "step 18500, training accuracy 0.98, loss 0.036721\n",
      "step 19000, training accuracy 1, loss 0.000847082\n",
      "step 19500, training accuracy 1, loss 0.00962506\n",
      "test accuracy 0.9838\n"
     ]
    }
   ],
   "source": [
    "# We will use the `Adam` optimizer. Adam is an improved variant of\n",
    "# standard gradient descent.\n",
    "train_step = tf.train.AdamOptimizer(1e-4).minimize(cross_entropy)\n",
    "\n",
    "# Here we define the correct predictions to be the,\n",
    "# well, correct predictions. We do this by taking\n",
    "# the variables y and y_ and seeing which data points\n",
    "# they were equal for. Since y and y_ are changing with\n",
    "# every training iteration, correct_prediction is also\n",
    "# changing every training iteration!\n",
    "correct_prediction = tf.equal(tf.argmax(y,1), tf.argmax(y_,1))\n",
    "\n",
    "accuracy = tf.reduce_mean(tf.cast(correct_prediction, tf.float32))\n",
    "\n",
    "sess.run(tf.global_variables_initializer())\n",
    "\n",
    "for i in range(20000):\n",
    "    batch = mnist.train.next_batch(50)\n",
    "    if i%500 == 0:\n",
    "#         train_accuracy = accuracy.eval(feed_dict={x:batch[0], y_: batch[1], keep_prob: 1.0})\n",
    "#         loss = cross_entropy.eval(feed_dict={x:batch[0], y_: batch[1], keep_prob: 1.0})\n",
    "        train_accuracy, loss = sess.run([accuracy, cross_entropy], \n",
    "                                        feed_dict={x:batch[0], y_: batch[1], keep_prob: 1.0})\n",
    "        print(\"step %d, training accuracy %g, loss %g\"%(i, train_accuracy, loss))\n",
    "    train_step.run(feed_dict={x: batch[0], y_: batch[1], keep_prob: 0.5})\n",
    "\n",
    "# Need to change this to be clean\n",
    "test_accuracy = 0\n",
    "for i in range(20):\n",
    "    batch = mnist.test.next_batch(500)\n",
    "    test_accuracy += 500 * accuracy.eval(feed_dict={\n",
    "        x:batch[0], y_: batch[1], keep_prob: 1.0})\n",
    "\n",
    "print(\"test accuracy %g\"%(test_accuracy / 10000))\n",
    "# print(\"test accuracy %g\"%accuracy.eval(feed_dict={\n",
    "#     x: mnist.test.images, y_: mnist.test.labels, keep_prob: 1.0}))"
   ]
  },
  {
   "cell_type": "markdown",
   "metadata": {},
   "source": [
    "### Text Generation with RNNs\n",
    "Based off the TensorFlow Tutorial and Andrej Karpathy's [The Unreasonable Effectiveness of Recurrent Neural Networks](https://karpathy.github.io/2015/05/21/rnn-effectiveness/)"
   ]
  },
  {
   "cell_type": "code",
   "execution_count": 9,
   "metadata": {
    "collapsed": false
   },
   "outputs": [
    {
     "name": "stdout",
     "output_type": "stream",
     "text": [
      "Downloading Shakespeare data\n",
      "Download complete\n"
     ]
    }
   ],
   "source": [
    "# Let us first download the dataset we will be using,\n",
    "# the works of Shakespeare. Dataset from Andrej Karpathy.\n",
    "# https://cs.stanford.edu/people/karpathy/char-rnn/shakespear.txt\n",
    "import urllib2\n",
    "print ('Downloading Shakespeare data')\n",
    "source = urllib2.urlopen(\"https://raw.githubusercontent.com/karpathy/char-rnn/master/data/tinyshakespeare/input.txt\")\n",
    "shakespeare = source.read()\n",
    "print ('Download complete')"
   ]
  },
  {
   "cell_type": "code",
   "execution_count": null,
   "metadata": {
    "collapsed": true
   },
   "outputs": [],
   "source": []
  }
 ],
 "metadata": {
  "kernelspec": {
   "display_name": "Python 2",
   "language": "python",
   "name": "python2"
  },
  "language_info": {
   "codemirror_mode": {
    "name": "ipython",
    "version": 2
   },
   "file_extension": ".py",
   "mimetype": "text/x-python",
   "name": "python",
   "nbconvert_exporter": "python",
   "pygments_lexer": "ipython2",
   "version": "2.7.13"
  }
 },
 "nbformat": 4,
 "nbformat_minor": 2
}

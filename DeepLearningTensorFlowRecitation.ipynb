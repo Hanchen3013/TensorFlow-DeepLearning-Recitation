{
 "cells": [
  {
   "cell_type": "markdown",
   "metadata": {},
   "source": [
    "# Deep Learning with TensorFlow\n",
    "## Recitation Notebook\n",
    "\n",
    "### Authors: Trevin Gandhi, Jordan Hurwitz, Brady Neal"
   ]
  },
  {
   "cell_type": "markdown",
   "metadata": {},
   "source": [
    "This recitation will consist of two parts:  \n",
    "[1) Building a feedforward Deep Neural Network in TensorFlow and discussing some best practices](#section1)  \n",
    "[2) Using TensorBoard for visualizations](#section2)"
   ]
  },
  {
   "cell_type": "markdown",
   "metadata": {},
   "source": [
    "<a href='#section1'><h3> Section 1: Building a Deep Feedforward Neural Network</h3></a>  \n",
    "(Based on the TensorFlow tutorials)"
   ]
  },
  {
   "cell_type": "markdown",
   "metadata": {},
   "source": [
    "A quick first thing to note --- for most applications of deep learning \n",
    "(for example, image recognition), instead of training a deep neural\n",
    "network from scratch (which can take on the order of days or weeks), it\n",
    "is common to download weights for pre-trained networks and \"fine-tune\"\n",
    "the network to fit your application. This allows you to train a neural \n",
    "network even when you don't have a bunch of data. However, the data \n",
    "that the pretrained model was trained on has to be similar \n",
    "to your data. \n",
    "\n",
    "In this notebook, however, we train the network from scratch."
   ]
  },
  {
   "cell_type": "code",
   "execution_count": 1,
   "metadata": {
    "collapsed": true
   },
   "outputs": [],
   "source": [
    "# First, we do the basic setup.\n",
    "import tensorflow as tf\n",
    "sess = tf.InteractiveSession()"
   ]
  },
  {
   "cell_type": "code",
   "execution_count": 2,
   "metadata": {},
   "outputs": [
    {
     "name": "stdout",
     "output_type": "stream",
     "text": [
      "Extracting MNIST_data/train-images-idx3-ubyte.gz\n",
      "Extracting MNIST_data/train-labels-idx1-ubyte.gz\n",
      "Extracting MNIST_data/t10k-images-idx3-ubyte.gz\n",
      "Extracting MNIST_data/t10k-labels-idx1-ubyte.gz\n"
     ]
    }
   ],
   "source": [
    "# We will be training this deep neural network on MNIST,\n",
    "# so let's first load the dataset.\n",
    "from tensorflow.examples.tutorials.mnist import input_data\n",
    "mnist = input_data.read_data_sets('MNIST_data', one_hot=True)"
   ]
  },
  {
   "cell_type": "code",
   "execution_count": 3,
   "metadata": {},
   "outputs": [],
   "source": [
    "# Now let's initialize some placeholders\n",
    "\n",
    "# Here, x is a placeholder for our input data. Since MNIST\n",
    "# uses 28x28 pixel images, we \"unroll\" them into a 784-pixel\n",
    "# long vector. The `None` indicates that we can input an\n",
    "# arbitrary amount of datapoints. Thus we are saying x is a\n",
    "# matrix with 784 columns and an arbitrary (to be decided \n",
    "# when we supply the data) number of rows.\n",
    "x  = tf.placeholder(tf.float32, [None, 784])\n",
    "\n",
    "# We define y_ to be the placeholder for our *true* y's. \n",
    "# We are giving y_ 10 rows because each row will be a\n",
    "# one-hot vector with the correct classification of the\n",
    "# image.\n",
    "y_ = tf.placeholder(tf.float32, shape=[None, 10])"
   ]
  },
  {
   "cell_type": "code",
   "execution_count": 4,
   "metadata": {
    "collapsed": true
   },
   "outputs": [],
   "source": [
    "# Here we make a handy function for initializing biases. \n",
    "# Note that we are returning a \"Variable\" - this means\n",
    "# something that is subject to change during training.\n",
    "# TensorFlow is actually using gradient descent to optimize\n",
    "# the value of all \"Variables\" in our network. \n",
    "def bias_variable(shape):\n",
    "    # Here we choose to initialize our biases to 0.01 to\n",
    "    # ensure that all ReLU units fire in the beginning.\n",
    "    # However, this is not an agreed-upon standard and\n",
    "    # many just initialize the biases to 0.\n",
    "    initial = tf.constant(0.01, shape=shape)\n",
    "    return tf.Variable(initial)"
   ]
  },
  {
   "cell_type": "code",
   "execution_count": 5,
   "metadata": {},
   "outputs": [],
   "source": [
    "# Let's define the first set of weights and biases (corresponding to our first layer)\n",
    "# We use He initialization for the weights as good practice for when we're training\n",
    "# deeper networks. Here, get_variable is similar to when we return a Variable and assign\n",
    "# it, except it also checks to see if the variable already exists.\n",
    "\n",
    "# This is: [number of input neurons, number of neurons in the first hidden layer,\n",
    "# number of neurons in the second hidden layer, number of classes]\n",
    "num_neurons = [784, 768, 1280, 10]\n",
    "\n",
    "# Just store this for convenience\n",
    "he_init = tf.contrib.layers.variance_scaling_initializer()\n",
    "\n",
    "w1 = tf.get_variable(\"w1\", shape=[num_neurons[0], num_neurons[1]], \n",
    "                     initializer=he_init)\n",
    "b1 = bias_variable([num_neurons[1]])\n",
    "\n",
    "# Now let's define the computation that takes this layer's input and runs it through\n",
    "# the neurons. Note that we use the ReLU activation function to avoid problems\n",
    "# with our gradients. This line is the equivalent of saying the output of the\n",
    "# first hidden layer is max(x*w1 + b1, 0).\n",
    "h1 = tf.nn.relu(tf.matmul(x, w1) + b1)\n",
    "\n",
    "# We also apply dropout after this layer and the next. Dropout is a form of regularization\n",
    "# in neural networks where we \"turn off\" randomly selected neurons during training.\n",
    "keep_prob = tf.placeholder(tf.float32)\n",
    "h1_drop = tf.nn.dropout(h1, keep_prob)"
   ]
  },
  {
   "cell_type": "code",
   "execution_count": 6,
   "metadata": {
    "collapsed": true
   },
   "outputs": [],
   "source": [
    "# Define the second layer, similarly to the first.\n",
    "w2 = tf.get_variable(\"w2\", shape=[num_neurons[1], num_neurons[2]], \n",
    "                     initializer=he_init)\n",
    "b2 = bias_variable([num_neurons[2]])\n",
    "h2 = tf.nn.relu(tf.matmul(h1_drop, w2) + b2)\n",
    "h2_drop = tf.nn.dropout(h2, keep_prob)\n",
    "\n",
    "# And define the third layer to output the log probabilities \n",
    "w3 = tf.get_variable(\"w3\", shape=[num_neurons[2], num_neurons[3]], \n",
    "                     initializer=he_init)\n",
    "b3 = bias_variable([num_neurons[3]])\n",
    "y  = tf.matmul(h2_drop, w3) + b3"
   ]
  },
  {
   "cell_type": "code",
   "execution_count": 7,
   "metadata": {
    "collapsed": true
   },
   "outputs": [],
   "source": [
    "# We define our loss function to be cross entropy over softmax probabilities.\n",
    "# Here our true labels are defined by y_, and our log probabilities\n",
    "# (TensorFlow calls them `logits`) are defined by y.\n",
    "cross_entropy = tf.reduce_mean(\n",
    "    tf.nn.softmax_cross_entropy_with_logits(labels=y_, logits=y))"
   ]
  },
  {
   "cell_type": "code",
   "execution_count": 8,
   "metadata": {},
   "outputs": [
    {
     "name": "stdout",
     "output_type": "stream",
     "text": [
      "step 0, training accuracy 0.08, loss 2.36143\n",
      "step 500, training accuracy 0.82, loss 0.355271\n",
      "step 1000, training accuracy 0.92, loss 0.225537\n",
      "step 1500, training accuracy 0.94, loss 0.246066\n",
      "step 2000, training accuracy 0.98, loss 0.0766248\n",
      "step 2500, training accuracy 0.98, loss 0.100453\n",
      "step 3000, training accuracy 0.94, loss 0.0873284\n",
      "step 3500, training accuracy 0.98, loss 0.120597\n",
      "step 4000, training accuracy 0.96, loss 0.120495\n",
      "step 4500, training accuracy 1, loss 0.0117914\n",
      "step 5000, training accuracy 0.98, loss 0.0775767\n",
      "step 5500, training accuracy 0.98, loss 0.063437\n",
      "step 6000, training accuracy 1, loss 0.00433112\n",
      "step 6500, training accuracy 0.98, loss 0.117304\n",
      "step 7000, training accuracy 1, loss 0.0297559\n",
      "step 7500, training accuracy 1, loss 0.0112341\n",
      "step 8000, training accuracy 0.98, loss 0.154639\n",
      "step 8500, training accuracy 0.96, loss 0.128729\n",
      "step 9000, training accuracy 0.98, loss 0.0539484\n",
      "step 9500, training accuracy 1, loss 0.00962552\n",
      "step 10000, training accuracy 1, loss 0.00981044\n",
      "step 10500, training accuracy 0.96, loss 0.131665\n",
      "step 11000, training accuracy 0.98, loss 0.0354796\n",
      "step 11500, training accuracy 1, loss 0.0153596\n",
      "step 12000, training accuracy 1, loss 0.0117491\n",
      "step 12500, training accuracy 1, loss 0.0105899\n",
      "step 13000, training accuracy 0.98, loss 0.0298454\n",
      "step 13500, training accuracy 1, loss 0.0100169\n",
      "step 14000, training accuracy 1, loss 0.0107121\n",
      "step 14500, training accuracy 1, loss 0.0110795\n",
      "step 15000, training accuracy 1, loss 0.00261559\n",
      "step 15500, training accuracy 1, loss 0.0128662\n",
      "step 16000, training accuracy 1, loss 0.00272668\n",
      "step 16500, training accuracy 1, loss 0.00475464\n",
      "step 17000, training accuracy 1, loss 0.00373352\n",
      "step 17500, training accuracy 1, loss 0.0006331\n",
      "step 18000, training accuracy 1, loss 0.00840031\n",
      "step 18500, training accuracy 1, loss 0.0069485\n",
      "step 19000, training accuracy 1, loss 0.00170454\n",
      "step 19500, training accuracy 1, loss 0.000816417\n",
      "test accuracy 0.9826\n"
     ]
    }
   ],
   "source": [
    "# We will use the `Adam` optimizer. Adam is an fancier variant of\n",
    "# standard gradient descent.\n",
    "train_step = tf.train.AdamOptimizer(1e-4).minimize(cross_entropy)\n",
    "\n",
    "# Here we build a binary vector corresponding to where our predicted \n",
    "# classes matched the actual classes.\n",
    "correct_prediction = tf.equal(tf.argmax(y,1), tf.argmax(y_,1))\n",
    "\n",
    "accuracy = tf.reduce_mean(tf.cast(correct_prediction, tf.float32))\n",
    "\n",
    "sess.run(tf.global_variables_initializer())\n",
    "\n",
    "for i in range(20000):\n",
    "    batch = mnist.train.next_batch(50)\n",
    "    if i%500 == 0:\n",
    "#         train_accuracy = accuracy.eval(feed_dict={x:batch[0], y_: batch[1], keep_prob: 1.0})\n",
    "#         loss = cross_entropy.eval(feed_dict={x:batch[0], y_: batch[1], keep_prob: 1.0})\n",
    "        train_accuracy, loss = sess.run([accuracy, cross_entropy], \n",
    "                                        feed_dict={x:batch[0], y_: batch[1], keep_prob: 1.0})\n",
    "        print(\"step %d, training accuracy %g, loss %g\"%(i, train_accuracy, loss))\n",
    "    train_step.run(feed_dict={x: batch[0], y_: batch[1], keep_prob: 0.5})\n",
    "\n",
    "# Need to change this to be clean\n",
    "test_accuracy = 0\n",
    "for i in range(20):\n",
    "    batch = mnist.test.next_batch(500)\n",
    "    test_accuracy += 500 * accuracy.eval(feed_dict={\n",
    "        x:batch[0], y_: batch[1], keep_prob: 1.0})\n",
    "\n",
    "print(\"test accuracy %g\"%(test_accuracy / 10000))\n",
    "# print(\"test accuracy %g\"%accuracy.eval(feed_dict={\n",
    "#     x: mnist.test.images, y_: mnist.test.labels, keep_prob: 1.0}))"
   ]
  },
  {
   "cell_type": "markdown",
   "metadata": {},
   "source": [
    "### Can we make this simpler? \n",
    "With TensorFlow 1.0, we can!"
   ]
  },
  {
   "cell_type": "code",
   "execution_count": 9,
   "metadata": {
    "scrolled": true
   },
   "outputs": [],
   "source": [
    "from tensorflow.contrib.layers import fully_connected, dropout, batch_norm\n",
    "\n",
    "# Instead of making keep_prob a placeholder (like we did for dropout\n",
    "# above), we can make a boolean`is_training` placeholder that dropout\n",
    "# and batch normalization can check to determine what parameter\n",
    "# values to use (i.e. if is_training = True, then dropout will use\n",
    "# a keep_prob of 0.5. Otherwise, it uses a keep_prob of 1.0).\n",
    "is_training = tf.placeholder(tf.bool, shape=(), name='is_training')\n",
    "\n",
    "# We can even easily add Batch Normalization, which can also be quite\n",
    "# useful when training deep neural networks (although it won't do much\n",
    "# here).\n",
    "bn_params = {\n",
    "    'is_training': is_training,\n",
    "    'decay': 0.99,\n",
    "    'updates_collections': None\n",
    "}\n",
    "\n",
    "# Define the first hidden layer using `fully_connected`\n",
    "# There are similar functions (e.g. conv2d) for other\n",
    "# types of layers.\n",
    "hidden1 = fully_connected(x, num_neurons[1], \n",
    "                          weights_initializer=he_init,\n",
    "                          normalizer_fn=batch_norm, \n",
    "                          normalizer_params=bn_params)\n",
    "hidden1_drop = dropout(hidden1, keep_prob, is_training=is_training)\n",
    "\n",
    "hidden2 = fully_connected(hidden1_drop, num_neurons[2], \n",
    "                          weights_initializer=he_init,\n",
    "                          normalizer_fn=batch_norm, \n",
    "                          normalizer_params=bn_params)\n",
    "hidden2_drop = dropout(hidden2, keep_prob, is_training=is_training)\n",
    "\n",
    "logits = fully_connected(hidden2_drop, num_neurons[3], activation_fn=None)"
   ]
  },
  {
   "cell_type": "markdown",
   "metadata": {},
   "source": [
    "<a href='#section2'><h3>Using TensorBoard for Visualizations</h3></a>"
   ]
  },
  {
   "cell_type": "code",
   "execution_count": null,
   "metadata": {
    "collapsed": true
   },
   "outputs": [],
   "source": []
  },
  {
   "cell_type": "markdown",
   "metadata": {},
   "source": [
    "### Text Generation with RNNs\n",
    "Based off the TensorFlow Tutorial and Andrej Karpathy's [The Unreasonable Effectiveness of Recurrent Neural Networks](https://karpathy.github.io/2015/05/21/rnn-effectiveness/)"
   ]
  },
  {
   "cell_type": "code",
   "execution_count": 10,
   "metadata": {},
   "outputs": [
    {
     "name": "stdout",
     "output_type": "stream",
     "text": [
      "Downloading Shakespeare data\n",
      "Download complete\n"
     ]
    }
   ],
   "source": [
    "# Let us first download the dataset we will be using,\n",
    "# the works of Shakespeare. Dataset from Andrej Karpathy.\n",
    "import urllib2\n",
    "print ('Downloading Shakespeare data')\n",
    "source = urllib2.urlopen(\"https://raw.githubusercontent.com/karpathy/char-rnn/master/data/tinyshakespeare/input.txt\")\n",
    "shakespeare = source.read()\n",
    "print ('Download complete')"
   ]
  },
  {
   "cell_type": "code",
   "execution_count": null,
   "metadata": {},
   "outputs": [],
   "source": [
    "lstm_size = 512\n",
    "lstm = tf.contrib.rnn.BasicLSTMCell(lstm_size, state_is_tuple=False)\n",
    "stacked_lstm = tf.contrib.rnn.MultiRNNCell([lstm, lstm],\n",
    "    state_is_tuple=False)\n",
    "initial_state = state = stacked_lstm.zero_state(batch_size, tf.float32)\n",
    "for i in range(num_steps):\n",
    "    # The value of state is updated after processing each batch of words.\n",
    "    output, state = stacked_lstm(words[:, i], state)\n",
    "\n",
    "    # The rest of the code.\n",
    "    # ...\n",
    " \n",
    "final_state = state"
   ]
  }
 ],
 "metadata": {
  "kernelspec": {
   "display_name": "Python 2",
   "language": "python",
   "name": "python2"
  },
  "language_info": {
   "codemirror_mode": {
    "name": "ipython",
    "version": 2
   },
   "file_extension": ".py",
   "mimetype": "text/x-python",
   "name": "python",
   "nbconvert_exporter": "python",
   "pygments_lexer": "ipython2",
   "version": "2.7.12"
  }
 },
 "nbformat": 4,
 "nbformat_minor": 2
}
